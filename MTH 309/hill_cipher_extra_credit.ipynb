{
 "cells": [
  {
   "cell_type": "markdown",
   "metadata": {},
   "source": [
    " ### <span style=\"color:red\">**Enter your name and person number here:**</span> \n",
    " \n",
    " # Ivan Wang 50414321"
   ]
  },
  {
   "cell_type": "markdown",
   "metadata": {},
   "source": [
    "### Execute the cell below before proceeding.\n",
    "\n",
    "The code in this cell will download a couple files with Python scripts from the Internet. Make sure that you have a network connection before executing it.  "
   ]
  },
  {
   "cell_type": "code",
   "execution_count": 230,
   "metadata": {},
   "outputs": [],
   "source": [
    "import requests\n",
    "with open(\"hill_cipher_extra_credit.py\", 'w') as foo:\n",
    "    foo.write(requests.get(\"https://git.io/JenzP\", timeout = 2 ).text)\n",
    "with open(\"hill_cipher_extra_credit_samples.py\", 'w') as foo:\n",
    "    foo.write(requests.get(\"https://git.io/JenzX\", timeout = 2 ).text)\n",
    "from hill_cipher_extra_credit import *"
   ]
  },
  {
   "cell_type": "markdown",
   "metadata": {},
   "source": [
    "# Extra credit Hill cipher\n",
    "\n",
    "\n",
    "## Instructions\n",
    "\n",
    "* This is an extra credit exercise, you are not required to submit it.\n",
    "* The correct solution will give you an extra 10% of your Exam 1 score \n",
    "* There is no partial credit on this assignment. Incomplete solutions (e.g. incorrect decoding of the cipher, printing the decoded message without any computations  etc.) will receive no credit.\n",
    "* The whole assignment must be completed within this notebook. Computations done on paper or using some other program will not be graded.\n",
    "* Once you complete this assignment, upload this notebook file to UBLearns (Assignments tab -> Hill Cipher Extra Credit). The name of this notebook file is `hill_cipher_extra_credit.ipynb`. You can execute the command `pwd` in a code cell of this notebook to check where this file is located on your computer. \n",
    "* The submission deadline is **Saturday, March 13th, 11:59 PM**. "
   ]
  },
  {
   "cell_type": "markdown",
   "metadata": {},
   "source": [
    "**Note:** The functions `char2num()` and `num2char()` should be helpful with this exercise. `char2num()` converts capital letters into numbers:"
   ]
  },
  {
   "cell_type": "code",
   "execution_count": 231,
   "metadata": {},
   "outputs": [
    {
     "data": {
      "text/latex": [
       "$\\displaystyle \\left[ 1, \\  2, \\  3, \\  4, \\  5, \\  6\\right]$"
      ],
      "text/plain": [
       "[1, 2, 3, 4, 5, 6]"
      ]
     },
     "execution_count": 231,
     "metadata": {},
     "output_type": "execute_result"
    }
   ],
   "source": [
    "char2num(\"ABCDEF\")"
   ]
  },
  {
   "cell_type": "markdown",
   "metadata": {},
   "source": [
    "Conversely, `num2char()` converts a list of numbers into corresponding characters. It also displays a black block for each number on the list that does not correspond to any character:"
   ]
  },
  {
   "cell_type": "code",
   "execution_count": 232,
   "metadata": {},
   "outputs": [
    {
     "name": "stdout",
     "output_type": "stream",
     "text": [
      "  20   8   9  19   0   9  19   0   1   0  20   5  19  20 100  -1\n",
      "   T   H   I   S   _   I   S   _   A   _   T   E   S   T   #   #\n",
      "\n"
     ]
    }
   ],
   "source": [
    "mylist = [20,8,9,19,0,9,19,0,1,0,20,5,19,20, 100, -1]\n",
    "num2char(mylist)"
   ]
  },
  {
   "cell_type": "markdown",
   "metadata": {},
   "source": [
    "The function `num2char_text_only()` is similar, but it prints only characters, without the corresponding numbers:"
   ]
  },
  {
   "cell_type": "code",
   "execution_count": 233,
   "metadata": {},
   "outputs": [
    {
     "data": {
      "text/plain": [
       "'THIS_IS_A_TEST##'"
      ]
     },
     "execution_count": 233,
     "metadata": {},
     "output_type": "execute_result"
    }
   ],
   "source": [
    "mylist = [20,8,9,19,0,9,19,0,1,0,20,5,19,20, 100, -1]\n",
    "num2char_text_only(mylist)"
   ]
  },
  {
   "cell_type": "markdown",
   "metadata": {},
   "source": [
    "----"
   ]
  },
  {
   "cell_type": "markdown",
   "metadata": {},
   "source": [
    "### Extra Credit Exercise\n",
    "\n",
    "In the next cell enter your UB person number (digits only, no spaces, dashes etc.) assigning it to the variable `pnum`, and execute the cell. For example, if your UB person number is 50201234, then the next cell should be `pnum = 50201234`"
   ]
  },
  {
   "cell_type": "code",
   "execution_count": 234,
   "metadata": {},
   "outputs": [],
   "source": [
    "pnum = 50414321"
   ]
  },
  {
   "cell_type": "markdown",
   "metadata": {},
   "source": [
    "Execute the next cell to produce a message encrypted with the Hill cipher cipher:"
   ]
  },
  {
   "cell_type": "code",
   "execution_count": 235,
   "metadata": {},
   "outputs": [
    {
     "data": {
      "text/latex": [
       "$\\displaystyle \\left[ 107, \\  146, \\  96, \\  85, \\  121, \\  87, \\  120, \\  163, \\  105, \\  71, \\  100, \\  68, \\  108, \\  148, \\  100, \\  42, \\  57, \\  35, \\  204, \\  287, \\  200, \\  123, \\  169, \\  115, \\  77, \\  110, \\  78, \\  64, \\  82, \\  45, \\  119, \\  161, \\  105, \\  151, \\  212, \\  147, \\  208, \\  305, \\  231, \\  149, \\  214, \\  158, \\  159, \\  231, \\  173, \\  166, \\  232, \\  159, \\  115, \\  172, \\  133, \\  121, \\  181, \\  140, \\  132, \\  192, \\  144\\right]$"
      ],
      "text/plain": [
       "[107, 146, 96, 85, 121, 87, 120, 163, 105, 71, 100, 68, 108, 148, 100, 42, 57,\n",
       " 35, 204, 287, 200, 123, 169, 115, 77, 110, 78, 64, 82, 45, 119, 161, 105, 151\n",
       ", 212, 147, 208, 305, 231, 149, 214, 158, 159, 231, 173, 166, 232, 159, 115, 1\n",
       "72, 133, 121, 181, 140, 132, 192, 144]"
      ]
     },
     "execution_count": 235,
     "metadata": {},
     "output_type": "execute_result"
    }
   ],
   "source": [
    "# cipher = cipher_generator(pnum)\n",
    "cipher"
   ]
  },
  {
   "cell_type": "code",
   "execution_count": 236,
   "metadata": {},
   "outputs": [
    {
     "data": {
      "text/latex": [
       "$\\displaystyle 57$"
      ],
      "text/plain": [
       "57"
      ]
     },
     "execution_count": 236,
     "metadata": {},
     "output_type": "execute_result"
    }
   ],
   "source": [
    "count = 0;\n",
    "for x in cipher:\n",
    "    count += 1\n",
    "    \n",
    "count"
   ]
  },
  {
   "cell_type": "code",
   "execution_count": 237,
   "metadata": {},
   "outputs": [
    {
     "data": {
      "text/latex": [
       "$\\displaystyle \\left[ 26, \\  11, \\  15, \\  4, \\  13, \\  6, \\  12, \\  1, \\  24, \\  17, \\  19, \\  14, \\  0, \\  13, \\  19, \\  15, \\  3, \\  8, \\  15, \\  17, \\  11, \\  15, \\  7, \\  7, \\  23, \\  2, \\  24, \\  16, \\  10, \\  18, \\  11, \\  26, \\  24, \\  16, \\  23, \\  12, \\  19, \\  8, \\  15, \\  14, \\  25, \\  23, \\  24, \\  15, \\  11, \\  4, \\  16, \\  24, \\  7, \\  10, \\  25, \\  13, \\  19, \\  5, \\  24, \\  3, \\  9\\right]$"
      ],
      "text/plain": [
       "[26, 11, 15, 4, 13, 6, 12, 1, 24, 17, 19, 14, 0, 13, 19, 15, 3, 8, 15, 17, 11,\n",
       " 15, 7, 7, 23, 2, 24, 16, 10, 18, 11, 26, 24, 16, 23, 12, 19, 8, 15, 14, 25, 2\n",
       "3, 24, 15, 11, 4, 16, 24, 7, 10, 25, 13, 19, 5, 24, 3, 9]"
      ]
     },
     "execution_count": 237,
     "metadata": {},
     "output_type": "execute_result"
    }
   ],
   "source": [
    "#reducedCipher = list(Matrix([26,11,15,4,13,6,12,1,24,17,19,14,0,13,19,15,3,8,15,17,11,15,7,7,23,2,24,16,10,18,11,26,24,16,23,12,19,8,15,14,25,23,24,15,11,4,16,24,7,10,25,13,19,5,24,3,9]))\n",
    "#reducedCipher"
   ]
  },
  {
   "cell_type": "code",
   "execution_count": 245,
   "metadata": {},
   "outputs": [
    {
     "data": {
      "text/latex": [
       "$\\displaystyle \\left[\\begin{matrix}0 & 1 & 1\\\\1 & 1 & 0\\\\0 & 2 & 1\\end{matrix}\\right]$"
      ],
      "text/plain": [
       "⎡0  1  1⎤\n",
       "⎢       ⎥\n",
       "⎢1  1  0⎥\n",
       "⎢       ⎥\n",
       "⎣0  2  1⎦"
      ]
     },
     "execution_count": 245,
     "metadata": {},
     "output_type": "execute_result"
    }
   ],
   "source": [
    "K = Matrix([[0, 1, 1], [1, 1, 0], [0, 2, 1]])\n",
    "K"
   ]
  },
  {
   "cell_type": "code",
   "execution_count": 246,
   "metadata": {},
   "outputs": [
    {
     "data": {
      "text/latex": [
       "$\\displaystyle \\left[\\begin{matrix}1 & 1 & -1\\\\-1 & 0 & 1\\\\2 & 0 & -1\\end{matrix}\\right]$"
      ],
      "text/plain": [
       "⎡1   1  -1⎤\n",
       "⎢         ⎥\n",
       "⎢-1  0  1 ⎥\n",
       "⎢         ⎥\n",
       "⎣2   0  -1⎦"
      ]
     },
     "execution_count": 246,
     "metadata": {},
     "output_type": "execute_result"
    }
   ],
   "source": [
    "D = K.inv()\n",
    "D"
   ]
  },
  {
   "cell_type": "code",
   "execution_count": 247,
   "metadata": {},
   "outputs": [
    {
     "data": {
      "text/latex": [
       "$\\displaystyle \\left( \\left[\\begin{matrix}107\\\\146\\\\96\\end{matrix}\\right], \\  \\left[\\begin{matrix}85\\\\121\\\\87\\end{matrix}\\right], \\  \\left[\\begin{matrix}120\\\\163\\\\105\\end{matrix}\\right], \\  \\left[\\begin{matrix}71\\\\100\\\\68\\end{matrix}\\right], \\  \\left[\\begin{matrix}108\\\\148\\\\100\\end{matrix}\\right], \\  \\left[\\begin{matrix}42\\\\57\\\\35\\end{matrix}\\right], \\  \\left[\\begin{matrix}204\\\\287\\\\200\\end{matrix}\\right], \\  \\left[\\begin{matrix}123\\\\169\\\\115\\end{matrix}\\right], \\  \\left[\\begin{matrix}77\\\\110\\\\78\\end{matrix}\\right], \\  \\left[\\begin{matrix}64\\\\82\\\\45\\end{matrix}\\right], \\  \\left[\\begin{matrix}119\\\\161\\\\105\\end{matrix}\\right], \\  \\left[\\begin{matrix}151\\\\212\\\\147\\end{matrix}\\right], \\  \\left[\\begin{matrix}208\\\\305\\\\231\\end{matrix}\\right], \\  \\left[\\begin{matrix}149\\\\214\\\\158\\end{matrix}\\right], \\  \\left[\\begin{matrix}159\\\\231\\\\173\\end{matrix}\\right], \\  \\left[\\begin{matrix}166\\\\232\\\\159\\end{matrix}\\right], \\  \\left[\\begin{matrix}115\\\\172\\\\133\\end{matrix}\\right], \\  \\left[\\begin{matrix}121\\\\181\\\\140\\end{matrix}\\right], \\  \\left[\\begin{matrix}132\\\\192\\\\144\\end{matrix}\\right]\\right)$"
      ],
      "text/plain": [
       "⎛⎡107⎤  ⎡85 ⎤  ⎡120⎤  ⎡71 ⎤  ⎡108⎤  ⎡42⎤  ⎡204⎤  ⎡123⎤  ⎡77 ⎤  ⎡64⎤  ⎡119⎤  ⎡1\n",
       "⎜⎢   ⎥  ⎢   ⎥  ⎢   ⎥  ⎢   ⎥  ⎢   ⎥  ⎢  ⎥  ⎢   ⎥  ⎢   ⎥  ⎢   ⎥  ⎢  ⎥  ⎢   ⎥  ⎢ \n",
       "⎜⎢146⎥, ⎢121⎥, ⎢163⎥, ⎢100⎥, ⎢148⎥, ⎢57⎥, ⎢287⎥, ⎢169⎥, ⎢110⎥, ⎢82⎥, ⎢161⎥, ⎢2\n",
       "⎜⎢   ⎥  ⎢   ⎥  ⎢   ⎥  ⎢   ⎥  ⎢   ⎥  ⎢  ⎥  ⎢   ⎥  ⎢   ⎥  ⎢   ⎥  ⎢  ⎥  ⎢   ⎥  ⎢ \n",
       "⎝⎣96 ⎦  ⎣87 ⎦  ⎣105⎦  ⎣68 ⎦  ⎣100⎦  ⎣35⎦  ⎣200⎦  ⎣115⎦  ⎣78 ⎦  ⎣45⎦  ⎣105⎦  ⎣1\n",
       "\n",
       "51⎤  ⎡208⎤  ⎡149⎤  ⎡159⎤  ⎡166⎤  ⎡115⎤  ⎡121⎤  ⎡132⎤⎞\n",
       "  ⎥  ⎢   ⎥  ⎢   ⎥  ⎢   ⎥  ⎢   ⎥  ⎢   ⎥  ⎢   ⎥  ⎢   ⎥⎟\n",
       "12⎥, ⎢305⎥, ⎢214⎥, ⎢231⎥, ⎢232⎥, ⎢172⎥, ⎢181⎥, ⎢192⎥⎟\n",
       "  ⎥  ⎢   ⎥  ⎢   ⎥  ⎢   ⎥  ⎢   ⎥  ⎢   ⎥  ⎢   ⎥  ⎢   ⎥⎟\n",
       "47⎦  ⎣231⎦  ⎣158⎦  ⎣173⎦  ⎣159⎦  ⎣133⎦  ⎣140⎦  ⎣144⎦⎠"
      ]
     },
     "execution_count": 247,
     "metadata": {},
     "output_type": "execute_result"
    }
   ],
   "source": [
    "u1 = Matrix(cipher[:3])  # a vector consisting of the first 3 numbers of the encrypted message\n",
    "u2 = Matrix(cipher[3:6]) # a vector consisting of the next 3 numbers of the encrypted message\n",
    "u3 = Matrix(cipher[6:9]) # and so on...\n",
    "u4 = Matrix(cipher[9:12])\n",
    "u5 = Matrix(cipher[12:15])\n",
    "u6 = Matrix(cipher[15:18])\n",
    "u7 = Matrix(cipher[18:21])\n",
    "u8 = Matrix(cipher[21:24])\n",
    "u9 = Matrix(cipher[24:27])\n",
    "u10 = Matrix(cipher[27:30])\n",
    "u11 = Matrix(cipher[30:33])\n",
    "u12 = Matrix(cipher[33:36])\n",
    "u13 = Matrix(cipher[36:39])\n",
    "u14 = Matrix(cipher[39:42])\n",
    "u15 = Matrix(cipher[42:45])\n",
    "u16 = Matrix(cipher[45:48])\n",
    "u17 = Matrix(cipher[48:51])\n",
    "u18 = Matrix(cipher[51:54])\n",
    "u19 = Matrix(cipher[54:57])\n",
    "\n",
    "\n",
    "\n",
    "u1, u2, u3, u4, u5, u6,u7,u8,u9,u10,u11,u12,u13,u14,u15,u16,u17,u18,u19"
   ]
  },
  {
   "cell_type": "code",
   "execution_count": 248,
   "metadata": {},
   "outputs": [
    {
     "data": {
      "text/latex": [
       "$\\displaystyle \\left( \\left[\\begin{matrix}157\\\\-11\\\\118\\end{matrix}\\right], \\  \\left[\\begin{matrix}119\\\\2\\\\83\\end{matrix}\\right], \\  \\left[\\begin{matrix}178\\\\-15\\\\135\\end{matrix}\\right], \\  \\left[\\begin{matrix}103\\\\-3\\\\74\\end{matrix}\\right], \\  \\left[\\begin{matrix}156\\\\-8\\\\116\\end{matrix}\\right], \\  \\left[\\begin{matrix}64\\\\-7\\\\49\\end{matrix}\\right], \\  \\left[\\begin{matrix}291\\\\-4\\\\208\\end{matrix}\\right], \\  \\left[\\begin{matrix}177\\\\-8\\\\131\\end{matrix}\\right], \\  \\left[\\begin{matrix}109\\\\1\\\\76\\end{matrix}\\right], \\  \\left[\\begin{matrix}101\\\\-19\\\\83\\end{matrix}\\right], \\  \\left[\\begin{matrix}175\\\\-14\\\\133\\end{matrix}\\right], \\  \\left[\\begin{matrix}216\\\\-4\\\\155\\end{matrix}\\right], \\  \\left[\\begin{matrix}282\\\\23\\\\185\\end{matrix}\\right], \\  \\left[\\begin{matrix}205\\\\9\\\\140\\end{matrix}\\right], \\  \\left[\\begin{matrix}217\\\\14\\\\145\\end{matrix}\\right], \\  \\left[\\begin{matrix}239\\\\-7\\\\173\\end{matrix}\\right], \\  \\left[\\begin{matrix}154\\\\18\\\\97\\end{matrix}\\right], \\  \\left[\\begin{matrix}162\\\\19\\\\102\\end{matrix}\\right], \\  \\left[\\begin{matrix}180\\\\12\\\\120\\end{matrix}\\right]\\right)$"
      ],
      "text/plain": [
       "⎛⎡157⎤  ⎡119⎤  ⎡178⎤  ⎡103⎤  ⎡156⎤  ⎡64⎤  ⎡291⎤  ⎡177⎤  ⎡109⎤  ⎡101⎤  ⎡175⎤  ⎡\n",
       "⎜⎢   ⎥  ⎢   ⎥  ⎢   ⎥  ⎢   ⎥  ⎢   ⎥  ⎢  ⎥  ⎢   ⎥  ⎢   ⎥  ⎢   ⎥  ⎢   ⎥  ⎢   ⎥  ⎢\n",
       "⎜⎢-11⎥, ⎢ 2 ⎥, ⎢-15⎥, ⎢-3 ⎥, ⎢-8 ⎥, ⎢-7⎥, ⎢-4 ⎥, ⎢-8 ⎥, ⎢ 1 ⎥, ⎢-19⎥, ⎢-14⎥, ⎢\n",
       "⎜⎢   ⎥  ⎢   ⎥  ⎢   ⎥  ⎢   ⎥  ⎢   ⎥  ⎢  ⎥  ⎢   ⎥  ⎢   ⎥  ⎢   ⎥  ⎢   ⎥  ⎢   ⎥  ⎢\n",
       "⎝⎣118⎦  ⎣83 ⎦  ⎣135⎦  ⎣74 ⎦  ⎣116⎦  ⎣49⎦  ⎣208⎦  ⎣131⎦  ⎣76 ⎦  ⎣83 ⎦  ⎣133⎦  ⎣\n",
       "\n",
       "216⎤  ⎡282⎤  ⎡205⎤  ⎡217⎤  ⎡239⎤  ⎡154⎤  ⎡162⎤  ⎡180⎤⎞\n",
       "   ⎥  ⎢   ⎥  ⎢   ⎥  ⎢   ⎥  ⎢   ⎥  ⎢   ⎥  ⎢   ⎥  ⎢   ⎥⎟\n",
       "-4 ⎥, ⎢23 ⎥, ⎢ 9 ⎥, ⎢14 ⎥, ⎢-7 ⎥, ⎢18 ⎥, ⎢19 ⎥, ⎢12 ⎥⎟\n",
       "   ⎥  ⎢   ⎥  ⎢   ⎥  ⎢   ⎥  ⎢   ⎥  ⎢   ⎥  ⎢   ⎥  ⎢   ⎥⎟\n",
       "155⎦  ⎣185⎦  ⎣140⎦  ⎣145⎦  ⎣173⎦  ⎣97 ⎦  ⎣102⎦  ⎣120⎦⎠"
      ]
     },
     "execution_count": 248,
     "metadata": {},
     "output_type": "execute_result"
    }
   ],
   "source": [
    "z1 = D*u1\n",
    "z2 = D*u2\n",
    "z3 = D*u3\n",
    "z4 = D*u4\n",
    "z5 = D*u5\n",
    "z6 = D*u6\n",
    "z7 = D*u7\n",
    "z8 = D*u8\n",
    "z9 = D*u9\n",
    "z10 = D*u10\n",
    "z11 = D*u11\n",
    "z12 = D*u12\n",
    "z13 = D*u13\n",
    "z14 = D*u14\n",
    "z15 = D*u15\n",
    "z16 = D*u16\n",
    "z17 = D*u17\n",
    "z18 = D*u18\n",
    "z19 = D*u19\n",
    "\n",
    "\n",
    "z1, z2, z3, z4,z5,z6,z7,z8,z9,z10,z11,z12,z13,z14,z15,z16,z17,z18,z19"
   ]
  },
  {
   "cell_type": "code",
   "execution_count": 249,
   "metadata": {},
   "outputs": [
    {
     "data": {
      "text/latex": [
       "$\\displaystyle \\left[ 157, \\  -11, \\  118, \\  119, \\  2, \\  83, \\  178, \\  -15, \\  135, \\  103, \\  -3, \\  74, \\  156, \\  -8, \\  116, \\  64, \\  -7, \\  49, \\  291, \\  -4, \\  208, \\  177, \\  -8, \\  131, \\  109, \\  1, \\  76, \\  101, \\  -19, \\  83, \\  175, \\  -14, \\  133, \\  216, \\  -4, \\  155, \\  282, \\  23, \\  185, \\  205, \\  9, \\  140, \\  217, \\  14, \\  145, \\  239, \\  -7, \\  173, \\  154, \\  18, \\  97, \\  162, \\  19, \\  102, \\  180, \\  12, \\  120\\right]$"
      ],
      "text/plain": [
       "[157, -11, 118, 119, 2, 83, 178, -15, 135, 103, -3, 74, 156, -8, 116, 64, -7, \n",
       "49, 291, -4, 208, 177, -8, 131, 109, 1, 76, 101, -19, 83, 175, -14, 133, 216, \n",
       "-4, 155, 282, 23, 185, 205, 9, 140, 217, 14, 145, 239, -7, 173, 154, 18, 97, 1\n",
       "62, 19, 102, 180, 12, 120]"
      ]
     },
     "execution_count": 249,
     "metadata": {},
     "output_type": "execute_result"
    }
   ],
   "source": [
    "numbers = list(Matrix([z1, z2, z3, z4,z5,z6,z7,z8,z9,z10,z11,z12,z13,z14,z15,z16,z17,z18,z19]))\n",
    "numbers"
   ]
  },
  {
   "cell_type": "code",
   "execution_count": 243,
   "metadata": {},
   "outputs": [
    {
     "data": {
      "text/latex": [
       "$\\displaystyle \\left[ 21, \\  8, \\  24, \\  0, \\  1, \\  3, \\  13, \\  7, \\  19, \\  11, \\  18, \\  15, \\  4, \\  2, \\  21, \\  21, \\  14, \\  7, \\  2, \\  22, \\  18, \\  10, \\  20, \\  12, \\  6, \\  8, \\  9, \\  18, \\  19, \\  0, \\  15, \\  5, \\  18, \\  22, \\  26, \\  22, \\  13, \\  5, \\  1, \\  20, \\  6, \\  15, \\  24, \\  20, \\  7, \\  21, \\  22, \\  15, \\  15, \\  14, \\  5, \\  3, \\  9, \\  1, \\  15, \\  12, \\  24\\right]$"
      ],
      "text/plain": [
       "[21, 8, 24, 0, 1, 3, 13, 7, 19, 11, 18, 15, 4, 2, 21, 21, 14, 7, 2, 22, 18, 10\n",
       ", 20, 12, 6, 8, 9, 18, 19, 0, 15, 5, 18, 22, 26, 22, 13, 5, 1, 20, 6, 15, 24, \n",
       "20, 7, 21, 22, 15, 15, 14, 5, 3, 9, 1, 15, 12, 24]"
      ]
     },
     "execution_count": 243,
     "metadata": {},
     "output_type": "execute_result"
    }
   ],
   "source": [
    "#reducedNumbers = list(Matrix([21,8,24,0,1,3,13,7,19,11,18,15,4,2,21,21,14,7,2,22,18,10,20,12,6,8,9,18,19,0,15,5,18,22,26,22,13,5,1,20,6,15,24,20,7,21,22,15,15,14,5,3,9,1,15,12,24]))\n",
    "#reducedNumbers"
   ]
  },
  {
   "cell_type": "code",
   "execution_count": 250,
   "metadata": {},
   "outputs": [
    {
     "data": {
      "text/plain": [
       "'####B####################A###########W##I##N#####R##S##L#'"
      ]
     },
     "execution_count": 250,
     "metadata": {},
     "output_type": "execute_result"
    }
   ],
   "source": [
    "num2char_text_only(numbers)\n"
   ]
  },
  {
   "cell_type": "code",
   "execution_count": null,
   "metadata": {},
   "outputs": [],
   "source": []
  },
  {
   "cell_type": "code",
   "execution_count": null,
   "metadata": {},
   "outputs": [],
   "source": []
  },
  {
   "cell_type": "code",
   "execution_count": null,
   "metadata": {},
   "outputs": [],
   "source": []
  },
  {
   "cell_type": "code",
   "execution_count": 185,
   "metadata": {},
   "outputs": [
    {
     "data": {
      "text/latex": [
       "$\\displaystyle \\left[ 3, \\  15, \\  14, \\  6, \\  9, \\  4, \\  5, \\  14, \\  20, \\  9, \\  1, \\  12\\right]$"
      ],
      "text/plain": [
       "[3, 15, 14, 6, 9, 4, 5, 14, 20, 9, 1, 12]"
      ]
     },
     "execution_count": 185,
     "metadata": {},
     "output_type": "execute_result"
    }
   ],
   "source": [
    "Numeric = char2num('CONFIDENTIAL')\n",
    "Numeric"
   ]
  },
  {
   "cell_type": "code",
   "execution_count": null,
   "metadata": {},
   "outputs": [],
   "source": []
  },
  {
   "cell_type": "code",
   "execution_count": null,
   "metadata": {},
   "outputs": [],
   "source": []
  },
  {
   "cell_type": "code",
   "execution_count": 146,
   "metadata": {},
   "outputs": [
    {
     "data": {
      "text/latex": [
       "$\\displaystyle \\left[\\begin{matrix}3 & 6 & 5 & 9\\\\15 & 9 & 14 & 1\\\\14 & 4 & 20 & 12\\end{matrix}\\right]$"
      ],
      "text/plain": [
       "⎡3   6  5   9 ⎤\n",
       "⎢             ⎥\n",
       "⎢15  9  14  1 ⎥\n",
       "⎢             ⎥\n",
       "⎣14  4  20  12⎦"
      ]
     },
     "execution_count": 146,
     "metadata": {},
     "output_type": "execute_result"
    }
   ],
   "source": [
    "numbersMatrix = Matrix(Numeric).reshape(4,3).T\n",
    "numbersMatrix\n"
   ]
  },
  {
   "cell_type": "code",
   "execution_count": 148,
   "metadata": {},
   "outputs": [],
   "source": [
    "v1 = numbersMatrix[:,0]\n",
    "v2 = numbersMatrix[:,1]\n",
    "v3 = numbersMatrix[:,2]\n",
    "v4 = numbersMatrix[:,3]"
   ]
  },
  {
   "cell_type": "code",
   "execution_count": 149,
   "metadata": {},
   "outputs": [
    {
     "data": {
      "text/latex": [
       "$\\displaystyle \\left( \\left[\\begin{matrix}3\\\\15\\\\14\\end{matrix}\\right], \\  \\left[\\begin{matrix}6\\\\9\\\\4\\end{matrix}\\right], \\  \\left[\\begin{matrix}5\\\\14\\\\20\\end{matrix}\\right], \\  \\left[\\begin{matrix}9\\\\1\\\\12\\end{matrix}\\right]\\right)$"
      ],
      "text/plain": [
       "⎛⎡3 ⎤  ⎡6⎤  ⎡5 ⎤  ⎡9 ⎤⎞\n",
       "⎜⎢  ⎥  ⎢ ⎥  ⎢  ⎥  ⎢  ⎥⎟\n",
       "⎜⎢15⎥, ⎢9⎥, ⎢14⎥, ⎢1 ⎥⎟\n",
       "⎜⎢  ⎥  ⎢ ⎥  ⎢  ⎥  ⎢  ⎥⎟\n",
       "⎝⎣14⎦  ⎣4⎦  ⎣20⎦  ⎣12⎦⎠"
      ]
     },
     "execution_count": 149,
     "metadata": {},
     "output_type": "execute_result"
    }
   ],
   "source": [
    "v1, v2, v3, v4"
   ]
  },
  {
   "cell_type": "code",
   "execution_count": 154,
   "metadata": {},
   "outputs": [
    {
     "ename": "TypeError",
     "evalue": "unsupported operand type(s) for /: 'One' and 'MutableDenseMatrix'",
     "output_type": "error",
     "traceback": [
      "\u001b[0;31m---------------------------------------------------------------------------\u001b[0m",
      "\u001b[0;31mTypeError\u001b[0m                                 Traceback (most recent call last)",
      "\u001b[0;32m/var/folders/j8/qnz7cg697pj418_3l9dphvj00000gn/T/ipykernel_11023/1970038455.py\u001b[0m in \u001b[0;36m<module>\u001b[0;34m\u001b[0m\n\u001b[0;32m----> 1\u001b[0;31m \u001b[0mcipherMatrix\u001b[0m\u001b[0;34m/\u001b[0m\u001b[0mnumbersMatrix\u001b[0m\u001b[0;34m\u001b[0m\u001b[0;34m\u001b[0m\u001b[0m\n\u001b[0m",
      "\u001b[0;32m~/opt/anaconda3/lib/python3.9/site-packages/sympy/core/decorators.py\u001b[0m in \u001b[0;36mbinary_op_wrapper\u001b[0;34m(self, other)\u001b[0m\n\u001b[1;32m    104\u001b[0m                     \u001b[0;32mif\u001b[0m \u001b[0mf\u001b[0m \u001b[0;32mis\u001b[0m \u001b[0;32mnot\u001b[0m \u001b[0;32mNone\u001b[0m\u001b[0;34m:\u001b[0m\u001b[0;34m\u001b[0m\u001b[0;34m\u001b[0m\u001b[0m\n\u001b[1;32m    105\u001b[0m                         \u001b[0;32mreturn\u001b[0m \u001b[0mf\u001b[0m\u001b[0;34m(\u001b[0m\u001b[0mself\u001b[0m\u001b[0;34m)\u001b[0m\u001b[0;34m\u001b[0m\u001b[0;34m\u001b[0m\u001b[0m\n\u001b[0;32m--> 106\u001b[0;31m             \u001b[0;32mreturn\u001b[0m \u001b[0mfunc\u001b[0m\u001b[0;34m(\u001b[0m\u001b[0mself\u001b[0m\u001b[0;34m,\u001b[0m \u001b[0mother\u001b[0m\u001b[0;34m)\u001b[0m\u001b[0;34m\u001b[0m\u001b[0;34m\u001b[0m\u001b[0m\n\u001b[0m\u001b[1;32m    107\u001b[0m         \u001b[0;32mreturn\u001b[0m \u001b[0mbinary_op_wrapper\u001b[0m\u001b[0;34m\u001b[0m\u001b[0;34m\u001b[0m\u001b[0m\n\u001b[1;32m    108\u001b[0m     \u001b[0;32mreturn\u001b[0m \u001b[0mpriority_decorator\u001b[0m\u001b[0;34m\u001b[0m\u001b[0;34m\u001b[0m\u001b[0m\n",
      "\u001b[0;32m~/opt/anaconda3/lib/python3.9/site-packages/sympy/matrices/common.py\u001b[0m in \u001b[0;36m__truediv__\u001b[0;34m(self, other)\u001b[0m\n\u001b[1;32m   2730\u001b[0m     \u001b[0;34m@\u001b[0m\u001b[0mcall_highest_priority\u001b[0m\u001b[0;34m(\u001b[0m\u001b[0;34m'__rtruediv__'\u001b[0m\u001b[0;34m)\u001b[0m\u001b[0;34m\u001b[0m\u001b[0;34m\u001b[0m\u001b[0m\n\u001b[1;32m   2731\u001b[0m     \u001b[0;32mdef\u001b[0m \u001b[0m__truediv__\u001b[0m\u001b[0;34m(\u001b[0m\u001b[0mself\u001b[0m\u001b[0;34m,\u001b[0m \u001b[0mother\u001b[0m\u001b[0;34m)\u001b[0m\u001b[0;34m:\u001b[0m\u001b[0;34m\u001b[0m\u001b[0;34m\u001b[0m\u001b[0m\n\u001b[0;32m-> 2732\u001b[0;31m         \u001b[0;32mreturn\u001b[0m \u001b[0mself\u001b[0m \u001b[0;34m*\u001b[0m \u001b[0;34m(\u001b[0m\u001b[0mself\u001b[0m\u001b[0;34m.\u001b[0m\u001b[0mone\u001b[0m \u001b[0;34m/\u001b[0m \u001b[0mother\u001b[0m\u001b[0;34m)\u001b[0m\u001b[0;34m\u001b[0m\u001b[0;34m\u001b[0m\u001b[0m\n\u001b[0m\u001b[1;32m   2733\u001b[0m \u001b[0;34m\u001b[0m\u001b[0m\n\u001b[1;32m   2734\u001b[0m     \u001b[0;34m@\u001b[0m\u001b[0mcall_highest_priority\u001b[0m\u001b[0;34m(\u001b[0m\u001b[0;34m'__rmatmul__'\u001b[0m\u001b[0;34m)\u001b[0m\u001b[0;34m\u001b[0m\u001b[0;34m\u001b[0m\u001b[0m\n",
      "\u001b[0;31mTypeError\u001b[0m: unsupported operand type(s) for /: 'One' and 'MutableDenseMatrix'"
     ]
    }
   ],
   "source": []
  },
  {
   "cell_type": "code",
   "execution_count": null,
   "metadata": {},
   "outputs": [],
   "source": []
  }
 ],
 "metadata": {
  "kernelspec": {
   "display_name": "Python 3 (ipykernel)",
   "language": "python",
   "name": "python3"
  },
  "language_info": {
   "codemirror_mode": {
    "name": "ipython",
    "version": 3
   },
   "file_extension": ".py",
   "mimetype": "text/x-python",
   "name": "python",
   "nbconvert_exporter": "python",
   "pygments_lexer": "ipython3",
   "version": "3.9.13"
  }
 },
 "nbformat": 4,
 "nbformat_minor": 2
}
