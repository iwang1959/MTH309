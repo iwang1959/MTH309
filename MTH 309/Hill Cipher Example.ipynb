{
 "cells": [
  {
   "cell_type": "markdown",
   "id": "d8aafcc7",
   "metadata": {},
   "source": [
    "## Important: Need to Execute this First Cell Before Continuing"
   ]
  },
  {
   "cell_type": "markdown",
   "id": "867fddd6",
   "metadata": {},
   "source": [
    "The code in this cell will download a file with a Python scripts from the Internet. Make sure that you have a network connection before executing it.\n",
    "\n"
   ]
  },
  {
   "cell_type": "code",
   "execution_count": 2,
   "id": "cd651a90",
   "metadata": {},
   "outputs": [],
   "source": [
    "import requests\n",
    "with open(\"hill_cipher.py\", 'w') as foo:\n",
    "    foo.write(requests.get(\"https://git.io/fj5jZ\", timeout = 2).text)\n",
    "with open(\"hill_cipher_samples.py\", 'w') as foo:\n",
    "    foo.write(requests.get(\"https://git.io/fj5jc\", timeout = 2).text)\n",
    "from hill_cipher import *"
   ]
  },
  {
   "cell_type": "markdown",
   "id": "9bbb0e73",
   "metadata": {},
   "source": [
    "### Hill cipher\n",
    "This goal of this notebook is to show how messages can be encrypted and decrypted with the Hill cipher. For simplicity we will assume here that messages that we want to encrypt consist of capital letters A-Z and the space character only.\n",
    "\n",
    "## Encryption\n",
    "As an example we will encrypt the message \"TOP SECRET\"\n",
    "\n",
    "#### Step 1.  \n",
    "The first step is to select an invertible matrix that will serve as the encryption key. Here we will use the following matrix $K$\n",
    ":"
   ]
  },
  {
   "cell_type": "code",
   "execution_count": 4,
   "id": "09ad2647",
   "metadata": {},
   "outputs": [
    {
     "data": {
      "text/latex": [
       "$\\displaystyle \\left[\\begin{matrix}1 & 1 & 1\\\\2 & 1 & 4\\\\1 & 0 & 2\\end{matrix}\\right]$"
      ],
      "text/plain": [
       "⎡1  1  1⎤\n",
       "⎢       ⎥\n",
       "⎢2  1  4⎥\n",
       "⎢       ⎥\n",
       "⎣1  0  2⎦"
      ]
     },
     "execution_count": 4,
     "metadata": {},
     "output_type": "execute_result"
    }
   ],
   "source": [
    "K = Matrix([[1, 1, 1], [2, 1, 4], [1, 0, 2]])\n",
    "K"
   ]
  },
  {
   "cell_type": "markdown",
   "id": "ae81d3fb",
   "metadata": {},
   "source": [
    "Since $K$ is\n",
    " a $ 3 \\times 3$\n",
    " matrix, the number of characters in a message we encrypt with it must be divisible by 3. \"TOP SECRET\" consists of 10 characters (9 letters and a space), so we will add two characters \"X\" at its end to satisfy this requirement. Thus he whole text we will encrypt will be \"TOP SECRETXX\":"
   ]
  },
  {
   "cell_type": "code",
   "execution_count": 5,
   "id": "1108ca48",
   "metadata": {},
   "outputs": [],
   "source": [
    "message = 'TOP SECRETXX'"
   ]
  },
  {
   "cell_type": "markdown",
   "id": "cfa6ebd7",
   "metadata": {},
   "source": [
    "#### Step 2\n",
    " Next, we replace letters in the message with numbers using the following scheme (the underscore stands for the space character):\n",
    "\n"
   ]
  },
  {
   "cell_type": "code",
   "execution_count": 7,
   "id": "e7b44b3b",
   "metadata": {},
   "outputs": [
    {
     "name": "stdout",
     "output_type": "stream",
     "text": [
      "  _  A  B  C  D  E  F  G  H  I  J  K  L  M  N  O  P  Q  R  S  T  U  V  W  X  Y  Z\n",
      "  0  1  2  3  4  5  6  7  8  9 10 11 12 13 14 15 16 17 18 19 20 21 22 23 24 25 26"
     ]
    }
   ],
   "source": [
    "show_encoding()\n"
   ]
  },
  {
   "cell_type": "markdown",
   "id": "0b8b682f",
   "metadata": {},
   "source": [
    "The function char2num() can be used to perform the letter to number replacement automatically:\n",
    "\n"
   ]
  },
  {
   "cell_type": "code",
   "execution_count": 8,
   "id": "2aa62202",
   "metadata": {},
   "outputs": [
    {
     "data": {
      "text/latex": [
       "$\\displaystyle \\left[ 20, \\  15, \\  16, \\  0, \\  19, \\  5, \\  3, \\  18, \\  5, \\  20, \\  24, \\  24\\right]$"
      ],
      "text/plain": [
       "[20, 15, 16, 0, 19, 5, 3, 18, 5, 20, 24, 24]"
      ]
     },
     "execution_count": 8,
     "metadata": {},
     "output_type": "execute_result"
    }
   ],
   "source": [
    "numbers = char2num(message)\n",
    "numbers"
   ]
  },
  {
   "cell_type": "markdown",
   "id": "938b719c",
   "metadata": {},
   "source": [
    "#### Step 3. \n",
    "The next step is to split the above list of numbers into vectors with 3 entries each. This can be done as follows:"
   ]
  },
  {
   "cell_type": "code",
   "execution_count": 12,
   "id": "af398867",
   "metadata": {},
   "outputs": [
    {
     "data": {
      "text/latex": [
       "$\\displaystyle \\left[\\begin{matrix}20 & 0 & 3 & 20\\\\15 & 19 & 18 & 24\\\\16 & 5 & 5 & 24\\end{matrix}\\right]$"
      ],
      "text/plain": [
       "⎡20  0   3   20⎤\n",
       "⎢              ⎥\n",
       "⎢15  19  18  24⎥\n",
       "⎢              ⎥\n",
       "⎣16  5   5   24⎦"
      ]
     },
     "execution_count": 12,
     "metadata": {},
     "output_type": "execute_result"
    }
   ],
   "source": [
    "numbersMatrix = Matrix(numbers).reshape(4,3).T\n",
    "numbersMatrix"
   ]
  },
  {
   "cell_type": "code",
   "execution_count": 13,
   "id": "90d4ef4e",
   "metadata": {},
   "outputs": [],
   "source": [
    "v1 = numbersMatrix[:,0]\n",
    "v2 = numbersMatrix[:,1]\n",
    "v3 = numbersMatrix[:,2]\n",
    "v4 = numbersMatrix[:,3]"
   ]
  },
  {
   "cell_type": "code",
   "execution_count": 15,
   "id": "03dbc9e5",
   "metadata": {},
   "outputs": [
    {
     "data": {
      "text/latex": [
       "$\\displaystyle \\left( \\left[\\begin{matrix}20\\\\15\\\\16\\end{matrix}\\right], \\  \\left[\\begin{matrix}0\\\\19\\\\5\\end{matrix}\\right], \\  \\left[\\begin{matrix}3\\\\18\\\\5\\end{matrix}\\right], \\  \\left[\\begin{matrix}20\\\\24\\\\24\\end{matrix}\\right]\\right)$"
      ],
      "text/plain": [
       "⎛⎡20⎤  ⎡0 ⎤  ⎡3 ⎤  ⎡20⎤⎞\n",
       "⎜⎢  ⎥  ⎢  ⎥  ⎢  ⎥  ⎢  ⎥⎟\n",
       "⎜⎢15⎥, ⎢19⎥, ⎢18⎥, ⎢24⎥⎟\n",
       "⎜⎢  ⎥  ⎢  ⎥  ⎢  ⎥  ⎢  ⎥⎟\n",
       "⎝⎣16⎦  ⎣5 ⎦  ⎣5 ⎦  ⎣24⎦⎠"
      ]
     },
     "execution_count": 15,
     "metadata": {},
     "output_type": "execute_result"
    }
   ],
   "source": [
    "v1, v2, v3, v4"
   ]
  },
  {
   "cell_type": "markdown",
   "id": "e2ebc256",
   "metadata": {},
   "source": [
    "We can also do this by just slicing the list."
   ]
  },
  {
   "cell_type": "code",
   "execution_count": 17,
   "id": "9afc0af9",
   "metadata": {},
   "outputs": [
    {
     "data": {
      "text/latex": [
       "$\\displaystyle \\left( \\left[\\begin{matrix}20\\\\15\\\\16\\end{matrix}\\right], \\  \\left[\\begin{matrix}0\\\\19\\\\5\\end{matrix}\\right], \\  \\left[\\begin{matrix}3\\\\18\\\\5\\end{matrix}\\right], \\  \\left[\\begin{matrix}20\\\\24\\\\24\\end{matrix}\\right]\\right)$"
      ],
      "text/plain": [
       "⎛⎡20⎤  ⎡0 ⎤  ⎡3 ⎤  ⎡20⎤⎞\n",
       "⎜⎢  ⎥  ⎢  ⎥  ⎢  ⎥  ⎢  ⎥⎟\n",
       "⎜⎢15⎥, ⎢19⎥, ⎢18⎥, ⎢24⎥⎟\n",
       "⎜⎢  ⎥  ⎢  ⎥  ⎢  ⎥  ⎢  ⎥⎟\n",
       "⎝⎣16⎦  ⎣5 ⎦  ⎣5 ⎦  ⎣24⎦⎠"
      ]
     },
     "execution_count": 17,
     "metadata": {},
     "output_type": "execute_result"
    }
   ],
   "source": [
    "v1 = Matrix(numbers[0:3])\n",
    "v2 = Matrix(numbers[3:6])\n",
    "v3 = Matrix(numbers[6:9])\n",
    "v4 = Matrix(numbers[9:12])\n",
    "v1, v2, v3, v4"
   ]
  },
  {
   "cell_type": "markdown",
   "id": "1fe96750",
   "metadata": {},
   "source": [
    "#### Step 4.\n",
    "Next, we multiply each vector by the encryption matrix $K$"
   ]
  },
  {
   "cell_type": "code",
   "execution_count": 19,
   "id": "d9e9e3b6",
   "metadata": {},
   "outputs": [
    {
     "data": {
      "text/latex": [
       "$\\displaystyle \\left( \\left[\\begin{matrix}51\\\\119\\\\52\\end{matrix}\\right], \\  \\left[\\begin{matrix}24\\\\39\\\\10\\end{matrix}\\right], \\  \\left[\\begin{matrix}26\\\\44\\\\13\\end{matrix}\\right], \\  \\left[\\begin{matrix}68\\\\160\\\\68\\end{matrix}\\right]\\right)$"
      ],
      "text/plain": [
       "⎛⎡51 ⎤  ⎡24⎤  ⎡26⎤  ⎡68 ⎤⎞\n",
       "⎜⎢   ⎥  ⎢  ⎥  ⎢  ⎥  ⎢   ⎥⎟\n",
       "⎜⎢119⎥, ⎢39⎥, ⎢44⎥, ⎢160⎥⎟\n",
       "⎜⎢   ⎥  ⎢  ⎥  ⎢  ⎥  ⎢   ⎥⎟\n",
       "⎝⎣52 ⎦  ⎣10⎦  ⎣13⎦  ⎣68 ⎦⎠"
      ]
     },
     "execution_count": 19,
     "metadata": {},
     "output_type": "execute_result"
    }
   ],
   "source": [
    "w1 = K*v1\n",
    "w2 = K*v2 \n",
    "w3 = K*v3\n",
    "w4 = K*v4\n",
    "w1, w2, w3, w4"
   ]
  },
  {
   "cell_type": "markdown",
   "id": "6951daa2",
   "metadata": {},
   "source": [
    "Note: We could have just applied the encoding matrix to our entire numbersMatrix we defined."
   ]
  },
  {
   "cell_type": "code",
   "execution_count": 21,
   "id": "ddf457a6",
   "metadata": {},
   "outputs": [
    {
     "data": {
      "text/latex": [
       "$\\displaystyle \\left[\\begin{matrix}51 & 24 & 26 & 68\\\\119 & 39 & 44 & 160\\\\52 & 10 & 13 & 68\\end{matrix}\\right]$"
      ],
      "text/plain": [
       "⎡51   24  26  68 ⎤\n",
       "⎢                ⎥\n",
       "⎢119  39  44  160⎥\n",
       "⎢                ⎥\n",
       "⎣52   10  13  68 ⎦"
      ]
     },
     "execution_count": 21,
     "metadata": {},
     "output_type": "execute_result"
    }
   ],
   "source": [
    "W = K*numbersMatrix\n",
    "W"
   ]
  },
  {
   "cell_type": "markdown",
   "id": "8b6c8200",
   "metadata": {},
   "source": [
    "Entries of these new vectors written as a list form the encrypted message."
   ]
  },
  {
   "cell_type": "code",
   "execution_count": 22,
   "id": "4c37bd1b",
   "metadata": {},
   "outputs": [
    {
     "data": {
      "text/latex": [
       "$\\displaystyle \\left[ 51, \\  119, \\  52, \\  24, \\  39, \\  10, \\  26, \\  44, \\  13, \\  68, \\  160, \\  68\\right]$"
      ],
      "text/plain": [
       "[51, 119, 52, 24, 39, 10, 26, 44, 13, 68, 160, 68]"
      ]
     },
     "execution_count": 22,
     "metadata": {},
     "output_type": "execute_result"
    }
   ],
   "source": [
    "cipher = list(Matrix([w1, w2, w3, w4]))\n",
    "cipher\n"
   ]
  },
  {
   "cell_type": "code",
   "execution_count": 24,
   "id": "3d2a6727",
   "metadata": {},
   "outputs": [
    {
     "data": {
      "text/latex": [
       "$\\displaystyle \\left[ 51, \\  119, \\  52, \\  24, \\  39, \\  10, \\  26, \\  44, \\  13, \\  68, \\  160, \\  68\\right]$"
      ],
      "text/plain": [
       "[51, 119, 52, 24, 39, 10, 26, 44, 13, 68, 160, 68]"
      ]
     },
     "execution_count": 24,
     "metadata": {},
     "output_type": "execute_result"
    }
   ],
   "source": [
    "cipher = list(W.T.reshape(1,12))\n",
    "cipher"
   ]
  },
  {
   "cell_type": "markdown",
   "id": "b24544f3",
   "metadata": {},
   "source": [
    "## Now we need to Decrypt the Message:\n",
    "\n",
    "Our encrypted message gives us this cipher. Now imagine we have recieved this and do not know what message it holds. How do we uncover it? "
   ]
  },
  {
   "cell_type": "code",
   "execution_count": 25,
   "id": "0701735e",
   "metadata": {},
   "outputs": [
    {
     "data": {
      "text/latex": [
       "$\\displaystyle \\left[ 51, \\  119, \\  52, \\  24, \\  39, \\  10, \\  26, \\  44, \\  13, \\  68, \\  160, \\  68\\right]$"
      ],
      "text/plain": [
       "[51, 119, 52, 24, 39, 10, 26, 44, 13, 68, 160, 68]"
      ]
     },
     "execution_count": 25,
     "metadata": {},
     "output_type": "execute_result"
    }
   ],
   "source": [
    "cipher"
   ]
  },
  {
   "cell_type": "markdown",
   "id": "fee5e8d8",
   "metadata": {},
   "source": [
    "### Step 1.\n",
    "\n",
    "We compute the inverse matrix of $K$. $D = K^{-1}$ is the decrpytion key."
   ]
  },
  {
   "cell_type": "code",
   "execution_count": 27,
   "id": "430c1e4c",
   "metadata": {},
   "outputs": [
    {
     "data": {
      "text/latex": [
       "$\\displaystyle \\left[\\begin{matrix}2 & -2 & 3\\\\0 & 1 & -2\\\\-1 & 1 & -1\\end{matrix}\\right]$"
      ],
      "text/plain": [
       "⎡2   -2  3 ⎤\n",
       "⎢          ⎥\n",
       "⎢0   1   -2⎥\n",
       "⎢          ⎥\n",
       "⎣-1  1   -1⎦"
      ]
     },
     "execution_count": 27,
     "metadata": {},
     "output_type": "execute_result"
    }
   ],
   "source": [
    "D = K.inv()\n",
    "D"
   ]
  },
  {
   "cell_type": "markdown",
   "id": "1712e4c4",
   "metadata": {},
   "source": [
    "### Step 2\n",
    "We split the encrypted message into chunks of 3 characters"
   ]
  },
  {
   "cell_type": "code",
   "execution_count": 28,
   "id": "93dc2091",
   "metadata": {},
   "outputs": [
    {
     "data": {
      "text/latex": [
       "$\\displaystyle \\left( \\left[\\begin{matrix}51\\\\119\\\\52\\end{matrix}\\right], \\  \\left[\\begin{matrix}24\\\\39\\\\10\\end{matrix}\\right], \\  \\left[\\begin{matrix}26\\\\44\\\\13\\end{matrix}\\right], \\  \\left[\\begin{matrix}68\\\\160\\\\68\\end{matrix}\\right]\\right)$"
      ],
      "text/plain": [
       "⎛⎡51 ⎤  ⎡24⎤  ⎡26⎤  ⎡68 ⎤⎞\n",
       "⎜⎢   ⎥  ⎢  ⎥  ⎢  ⎥  ⎢   ⎥⎟\n",
       "⎜⎢119⎥, ⎢39⎥, ⎢44⎥, ⎢160⎥⎟\n",
       "⎜⎢   ⎥  ⎢  ⎥  ⎢  ⎥  ⎢   ⎥⎟\n",
       "⎝⎣52 ⎦  ⎣10⎦  ⎣13⎦  ⎣68 ⎦⎠"
      ]
     },
     "execution_count": 28,
     "metadata": {},
     "output_type": "execute_result"
    }
   ],
   "source": [
    "u1 = Matrix(cipher[:3])  # a vector consisting of the first 3 numbers of the encrypted message\n",
    "u2 = Matrix(cipher[3:6]) # a vector consisting of the next 3 numbers of the encrypted message\n",
    "u3 = Matrix(cipher[6:9]) # and so on...\n",
    "u4 = Matrix(cipher[9:12])\n",
    "u1, u2, u3, u4"
   ]
  },
  {
   "cell_type": "markdown",
   "id": "d4bff3a2",
   "metadata": {},
   "source": [
    "### Step 3\n",
    "We multiply each vector by the decryption matrix $D$."
   ]
  },
  {
   "cell_type": "code",
   "execution_count": 32,
   "id": "89cf1c7c",
   "metadata": {},
   "outputs": [
    {
     "data": {
      "text/latex": [
       "$\\displaystyle \\left( \\left[\\begin{matrix}20\\\\15\\\\16\\end{matrix}\\right], \\  \\left[\\begin{matrix}0\\\\19\\\\5\\end{matrix}\\right], \\  \\left[\\begin{matrix}3\\\\18\\\\5\\end{matrix}\\right], \\  \\left[\\begin{matrix}20\\\\24\\\\24\\end{matrix}\\right]\\right)$"
      ],
      "text/plain": [
       "⎛⎡20⎤  ⎡0 ⎤  ⎡3 ⎤  ⎡20⎤⎞\n",
       "⎜⎢  ⎥  ⎢  ⎥  ⎢  ⎥  ⎢  ⎥⎟\n",
       "⎜⎢15⎥, ⎢19⎥, ⎢18⎥, ⎢24⎥⎟\n",
       "⎜⎢  ⎥  ⎢  ⎥  ⎢  ⎥  ⎢  ⎥⎟\n",
       "⎝⎣16⎦  ⎣5 ⎦  ⎣5 ⎦  ⎣24⎦⎠"
      ]
     },
     "execution_count": 32,
     "metadata": {},
     "output_type": "execute_result"
    }
   ],
   "source": [
    "z1 = D*u1\n",
    "z2 = D*u2\n",
    "z3 = D*u3\n",
    "z4 = D*u4\n",
    "z1, z2, z3, z4"
   ]
  },
  {
   "cell_type": "markdown",
   "id": "f4968376",
   "metadata": {},
   "source": [
    "### Step 4 \n",
    "Combine these into a list of numbers."
   ]
  },
  {
   "cell_type": "code",
   "execution_count": 33,
   "id": "1a06f5c3",
   "metadata": {},
   "outputs": [
    {
     "data": {
      "text/latex": [
       "$\\displaystyle \\left[ 20, \\  15, \\  16, \\  0, \\  19, \\  5, \\  3, \\  18, \\  5, \\  20, \\  24, \\  24\\right]$"
      ],
      "text/plain": [
       "[20, 15, 16, 0, 19, 5, 3, 18, 5, 20, 24, 24]"
      ]
     },
     "execution_count": 33,
     "metadata": {},
     "output_type": "execute_result"
    }
   ],
   "source": [
    "numbers = list(Matrix([z1, z2, z3, z4]))\n",
    "numbers"
   ]
  },
  {
   "cell_type": "markdown",
   "id": "95bfa8b7",
   "metadata": {},
   "source": [
    "### Step 5\n",
    "Convert the numbers back into letters. "
   ]
  },
  {
   "cell_type": "code",
   "execution_count": 34,
   "id": "adb50e20",
   "metadata": {},
   "outputs": [
    {
     "name": "stdout",
     "output_type": "stream",
     "text": [
      "  20  15  16   0  19   5   3  18   5  20  24  24\n",
      "   T   O   P   _   S   E   C   R   E   T   X   X\n",
      "\n"
     ]
    }
   ],
   "source": [
    "num2char(numbers)\n"
   ]
  },
  {
   "cell_type": "code",
   "execution_count": 35,
   "id": "f445b4de",
   "metadata": {},
   "outputs": [
    {
     "data": {
      "text/plain": [
       "'TOP_SECRETXX'"
      ]
     },
     "execution_count": 35,
     "metadata": {},
     "output_type": "execute_result"
    }
   ],
   "source": [
    "num2char_text_only(numbers)\n"
   ]
  },
  {
   "cell_type": "code",
   "execution_count": null,
   "id": "09779d5a",
   "metadata": {},
   "outputs": [],
   "source": []
  }
 ],
 "metadata": {
  "kernelspec": {
   "display_name": "Python 3 (ipykernel)",
   "language": "python",
   "name": "python3"
  },
  "language_info": {
   "codemirror_mode": {
    "name": "ipython",
    "version": 3
   },
   "file_extension": ".py",
   "mimetype": "text/x-python",
   "name": "python",
   "nbconvert_exporter": "python",
   "pygments_lexer": "ipython3",
   "version": "3.9.13"
  }
 },
 "nbformat": 4,
 "nbformat_minor": 5
}
