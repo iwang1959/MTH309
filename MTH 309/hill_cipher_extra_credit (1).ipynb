{
 "cells": [
  {
   "cell_type": "markdown",
   "metadata": {},
   "source": [
    " ### <span style=\"color:red\">**Enter your name and person number here:**</span> \n",
    " \n",
    " # Ivan Wang 50414321"
   ]
  },
  {
   "cell_type": "markdown",
   "metadata": {},
   "source": [
    "### Execute the cell below before proceeding.\n",
    "\n",
    "The code in this cell will download a couple files with Python scripts from the Internet. Make sure that you have a network connection before executing it.  "
   ]
  },
  {
   "cell_type": "code",
   "execution_count": 70,
   "metadata": {},
   "outputs": [],
   "source": [
    "import requests\n",
    "with open(\"hill_cipher_extra_credit.py\", 'w') as foo:\n",
    "    foo.write(requests.get(\"https://git.io/JenzP\", timeout = 2 ).text)\n",
    "with open(\"hill_cipher_extra_credit_samples.py\", 'w') as foo:\n",
    "    foo.write(requests.get(\"https://git.io/JenzX\", timeout = 2 ).text)\n",
    "from hill_cipher_extra_credit import *"
   ]
  },
  {
   "cell_type": "markdown",
   "metadata": {},
   "source": [
    "# Extra credit Hill cipher\n",
    "\n",
    "\n",
    "## Instructions\n",
    "\n",
    "* This is an extra credit exercise, you are not required to submit it.\n",
    "* The correct solution will give you an extra 10% of your Exam 1 score \n",
    "* There is no partial credit on this assignment. Incomplete solutions (e.g. incorrect decoding of the cipher, printing the decoded message without any computations  etc.) will receive no credit.\n",
    "* The whole assignment must be completed within this notebook. Computations done on paper or using some other program will not be graded.\n",
    "* Once you complete this assignment, upload this notebook file to UBLearns (Assignments tab -> Hill Cipher Extra Credit). The name of this notebook file is `hill_cipher_extra_credit.ipynb`. You can execute the command `pwd` in a code cell of this notebook to check where this file is located on your computer. \n",
    "* The submission deadline is **Saturday, March 13th, 11:59 PM**. "
   ]
  },
  {
   "cell_type": "markdown",
   "metadata": {},
   "source": [
    "**Note:** The functions `char2num()` and `num2char()` should be helpful with this exercise. `char2num()` converts capital letters into numbers:"
   ]
  },
  {
   "cell_type": "code",
   "execution_count": 71,
   "metadata": {},
   "outputs": [
    {
     "data": {
      "text/latex": [
       "$\\displaystyle \\left[ 1, \\  2, \\  3, \\  4, \\  5, \\  6\\right]$"
      ],
      "text/plain": [
       "[1, 2, 3, 4, 5, 6]"
      ]
     },
     "execution_count": 71,
     "metadata": {},
     "output_type": "execute_result"
    }
   ],
   "source": [
    "char2num(\"ABCDEF\")"
   ]
  },
  {
   "cell_type": "markdown",
   "metadata": {},
   "source": [
    "Conversely, `num2char()` converts a list of numbers into corresponding characters. It also displays a black block for each number on the list that does not correspond to any character:"
   ]
  },
  {
   "cell_type": "code",
   "execution_count": 72,
   "metadata": {},
   "outputs": [
    {
     "name": "stdout",
     "output_type": "stream",
     "text": [
      "  20   8   9  19   0   9  19   0   1   0  20   5  19  20 100  -1\n",
      "   T   H   I   S   _   I   S   _   A   _   T   E   S   T   #   #\n",
      "\n"
     ]
    }
   ],
   "source": [
    "mylist = [20,8,9,19,0,9,19,0,1,0,20,5,19,20, 100, -1]\n",
    "num2char(mylist)"
   ]
  },
  {
   "cell_type": "markdown",
   "metadata": {},
   "source": [
    "The function `num2char_text_only()` is similar, but it prints only characters, without the corresponding numbers:"
   ]
  },
  {
   "cell_type": "code",
   "execution_count": 73,
   "metadata": {},
   "outputs": [
    {
     "data": {
      "text/plain": [
       "'THIS_IS_A_TEST##'"
      ]
     },
     "execution_count": 73,
     "metadata": {},
     "output_type": "execute_result"
    }
   ],
   "source": [
    "mylist = [20,8,9,19,0,9,19,0,1,0,20,5,19,20, 100, -1]\n",
    "num2char_text_only(mylist)"
   ]
  },
  {
   "cell_type": "markdown",
   "metadata": {},
   "source": [
    "----"
   ]
  },
  {
   "cell_type": "markdown",
   "metadata": {},
   "source": [
    "### Extra Credit Exercise\n",
    "\n",
    "In the next cell enter your UB person number (digits only, no spaces, dashes etc.) assigning it to the variable `pnum`, and execute the cell. For example, if your UB person number is 50201234, then the next cell should be `pnum = 50201234`"
   ]
  },
  {
   "cell_type": "code",
   "execution_count": 74,
   "metadata": {},
   "outputs": [],
   "source": [
    "pnum = 50414321"
   ]
  },
  {
   "cell_type": "markdown",
   "metadata": {},
   "source": [
    "Execute the next cell to produce a message encrypted with the Hill cipher cipher:"
   ]
  },
  {
   "cell_type": "code",
   "execution_count": 75,
   "metadata": {},
   "outputs": [
    {
     "data": {
      "text/latex": [
       "$\\displaystyle \\left[ 107, \\  146, \\  96, \\  85, \\  121, \\  87, \\  120, \\  163, \\  105, \\  71, \\  100, \\  68, \\  108, \\  148, \\  100, \\  42, \\  57, \\  35, \\  204, \\  287, \\  200, \\  123, \\  169, \\  115, \\  77, \\  110, \\  78, \\  64, \\  82, \\  45, \\  119, \\  161, \\  105, \\  151, \\  212, \\  147, \\  208, \\  305, \\  231, \\  149, \\  214, \\  158, \\  159, \\  231, \\  173, \\  166, \\  232, \\  159, \\  115, \\  172, \\  133, \\  121, \\  181, \\  140, \\  132, \\  192, \\  144\\right]$"
      ],
      "text/plain": [
       "[107, 146, 96, 85, 121, 87, 120, 163, 105, 71, 100, 68, 108, 148, 100, 42, 57,\n",
       " 35, 204, 287, 200, 123, 169, 115, 77, 110, 78, 64, 82, 45, 119, 161, 105, 151\n",
       ", 212, 147, 208, 305, 231, 149, 214, 158, 159, 231, 173, 166, 232, 159, 115, 1\n",
       "72, 133, 121, 181, 140, 132, 192, 144]"
      ]
     },
     "execution_count": 75,
     "metadata": {},
     "output_type": "execute_result"
    }
   ],
   "source": [
    "cipher = cipher_generator(pnum)\n",
    "cipher"
   ]
  },
  {
   "cell_type": "markdown",
   "metadata": {},
   "source": [
    "The encryption key is a 3$\\times$3 matrix, and the message starts with the word \"CONFIDENTIAL\". Decrypt the message."
   ]
  },
  {
   "cell_type": "code",
   "execution_count": 76,
   "metadata": {},
   "outputs": [],
   "source": [
    "word = \"CONFIDENT\""
   ]
  },
  {
   "cell_type": "code",
   "execution_count": 77,
   "metadata": {},
   "outputs": [
    {
     "name": "stdout",
     "output_type": "stream",
     "text": [
      "  _  A  B  C  D  E  F  G  H  I  J  K  L  M  N  O  P  Q  R  S  T  U  V  W  X  Y  Z\n",
      "  0  1  2  3  4  5  6  7  8  9 10 11 12 13 14 15 16 17 18 19 20 21 22 23 24 25 26"
     ]
    }
   ],
   "source": [
    "show_encoding()\n"
   ]
  },
  {
   "cell_type": "code",
   "execution_count": 78,
   "metadata": {},
   "outputs": [
    {
     "data": {
      "text/latex": [
       "$\\displaystyle \\left[ 3, \\  15, \\  14, \\  6, \\  9, \\  4, \\  5, \\  14, \\  20\\right]$"
      ],
      "text/plain": [
       "[3, 15, 14, 6, 9, 4, 5, 14, 20]"
      ]
     },
     "execution_count": 78,
     "metadata": {},
     "output_type": "execute_result"
    }
   ],
   "source": [
    "numbers = char2num(word)\n",
    "numbers"
   ]
  },
  {
   "cell_type": "code",
   "execution_count": 79,
   "metadata": {},
   "outputs": [
    {
     "data": {
      "text/latex": [
       "$\\displaystyle \\left[\\begin{matrix}3 & 6 & 5\\\\15 & 9 & 14\\\\14 & 4 & 20\\end{matrix}\\right]$"
      ],
      "text/plain": [
       "⎡3   6  5 ⎤\n",
       "⎢         ⎥\n",
       "⎢15  9  14⎥\n",
       "⎢         ⎥\n",
       "⎣14  4  20⎦"
      ]
     },
     "execution_count": 79,
     "metadata": {},
     "output_type": "execute_result"
    }
   ],
   "source": [
    "numbersMatrix = Matrix(numbers).reshape(3,3).T\n",
    "numbersMatrix"
   ]
  },
  {
   "cell_type": "code",
   "execution_count": 80,
   "metadata": {},
   "outputs": [
    {
     "data": {
      "text/latex": [
       "$\\displaystyle \\left[\\begin{matrix}3 & 6 & 5\\\\15 & 9 & 14\\\\14 & 4 & 20\\end{matrix}\\right]$"
      ],
      "text/plain": [
       "⎡3   6  5 ⎤\n",
       "⎢         ⎥\n",
       "⎢15  9  14⎥\n",
       "⎢         ⎥\n",
       "⎣14  4  20⎦"
      ]
     },
     "execution_count": 80,
     "metadata": {},
     "output_type": "execute_result"
    }
   ],
   "source": [
    "numbersMatrix"
   ]
  },
  {
   "cell_type": "code",
   "execution_count": 81,
   "metadata": {},
   "outputs": [],
   "source": [
    "ArrayB = [107,146,96,85,121,87,120,163,105]\n",
    "#first 9 numbers from cipher\n"
   ]
  },
  {
   "cell_type": "code",
   "execution_count": 82,
   "metadata": {},
   "outputs": [
    {
     "data": {
      "text/latex": [
       "$\\displaystyle \\left[\\begin{matrix}107 & 85 & 120\\\\146 & 121 & 163\\\\96 & 87 & 105\\end{matrix}\\right]$"
      ],
      "text/plain": [
       "⎡107  85   120⎤\n",
       "⎢             ⎥\n",
       "⎢146  121  163⎥\n",
       "⎢             ⎥\n",
       "⎣96   87   105⎦"
      ]
     },
     "execution_count": 82,
     "metadata": {},
     "output_type": "execute_result"
    }
   ],
   "source": [
    "numbersMatrix2 = Matrix(ArrayB).reshape(3,3).T\n",
    "numbersMatrix2"
   ]
  },
  {
   "cell_type": "code",
   "execution_count": 83,
   "metadata": {},
   "outputs": [
    {
     "data": {
      "text/latex": [
       "$\\displaystyle \\left[\\begin{matrix}6 & 5 & 1\\\\9 & 7 & 1\\\\7 & 5 & 0\\end{matrix}\\right]$"
      ],
      "text/plain": [
       "⎡6  5  1⎤\n",
       "⎢       ⎥\n",
       "⎢9  7  1⎥\n",
       "⎢       ⎥\n",
       "⎣7  5  0⎦"
      ]
     },
     "execution_count": 83,
     "metadata": {},
     "output_type": "execute_result"
    }
   ],
   "source": [
    "key = numbersMatrix2 * numbersMatrix.inv()\n",
    "key"
   ]
  },
  {
   "cell_type": "code",
   "execution_count": 84,
   "metadata": {},
   "outputs": [
    {
     "data": {
      "text/latex": [
       "$\\displaystyle \\left[\\begin{matrix}-5 & 5 & -2\\\\7 & -7 & 3\\\\-4 & 5 & -3\\end{matrix}\\right]$"
      ],
      "text/plain": [
       "⎡-5  5   -2⎤\n",
       "⎢          ⎥\n",
       "⎢7   -7  3 ⎥\n",
       "⎢          ⎥\n",
       "⎣-4  5   -3⎦"
      ]
     },
     "execution_count": 84,
     "metadata": {},
     "output_type": "execute_result"
    }
   ],
   "source": [
    "D = key.inv()\n",
    "D"
   ]
  },
  {
   "cell_type": "code",
   "execution_count": 85,
   "metadata": {},
   "outputs": [
    {
     "data": {
      "text/latex": [
       "$\\displaystyle \\left( \\left[\\begin{matrix}107\\\\146\\\\96\\end{matrix}\\right], \\  \\left[\\begin{matrix}85\\\\121\\\\87\\end{matrix}\\right], \\  \\left[\\begin{matrix}120\\\\163\\\\105\\end{matrix}\\right], \\  \\left[\\begin{matrix}71\\\\100\\\\68\\end{matrix}\\right], \\  \\left[\\begin{matrix}108\\\\148\\\\100\\end{matrix}\\right], \\  \\left[\\begin{matrix}42\\\\57\\\\35\\end{matrix}\\right], \\  \\left[\\begin{matrix}204\\\\287\\\\200\\end{matrix}\\right], \\  \\left[\\begin{matrix}123\\\\169\\\\115\\end{matrix}\\right], \\  \\left[\\begin{matrix}77\\\\110\\\\78\\end{matrix}\\right], \\  \\left[\\begin{matrix}64\\\\82\\\\45\\end{matrix}\\right], \\  \\left[\\begin{matrix}119\\\\161\\\\105\\end{matrix}\\right], \\  \\left[\\begin{matrix}151\\\\212\\\\147\\end{matrix}\\right], \\  \\left[\\begin{matrix}208\\\\305\\\\231\\end{matrix}\\right], \\  \\left[\\begin{matrix}149\\\\214\\\\158\\end{matrix}\\right], \\  \\left[\\begin{matrix}159\\\\231\\\\173\\end{matrix}\\right], \\  \\left[\\begin{matrix}166\\\\232\\\\159\\end{matrix}\\right], \\  \\left[\\begin{matrix}115\\\\172\\\\133\\end{matrix}\\right], \\  \\left[\\begin{matrix}132\\\\192\\\\144\\end{matrix}\\right]\\right)$"
      ],
      "text/plain": [
       "⎛⎡107⎤  ⎡85 ⎤  ⎡120⎤  ⎡71 ⎤  ⎡108⎤  ⎡42⎤  ⎡204⎤  ⎡123⎤  ⎡77 ⎤  ⎡64⎤  ⎡119⎤  ⎡1\n",
       "⎜⎢   ⎥  ⎢   ⎥  ⎢   ⎥  ⎢   ⎥  ⎢   ⎥  ⎢  ⎥  ⎢   ⎥  ⎢   ⎥  ⎢   ⎥  ⎢  ⎥  ⎢   ⎥  ⎢ \n",
       "⎜⎢146⎥, ⎢121⎥, ⎢163⎥, ⎢100⎥, ⎢148⎥, ⎢57⎥, ⎢287⎥, ⎢169⎥, ⎢110⎥, ⎢82⎥, ⎢161⎥, ⎢2\n",
       "⎜⎢   ⎥  ⎢   ⎥  ⎢   ⎥  ⎢   ⎥  ⎢   ⎥  ⎢  ⎥  ⎢   ⎥  ⎢   ⎥  ⎢   ⎥  ⎢  ⎥  ⎢   ⎥  ⎢ \n",
       "⎝⎣96 ⎦  ⎣87 ⎦  ⎣105⎦  ⎣68 ⎦  ⎣100⎦  ⎣35⎦  ⎣200⎦  ⎣115⎦  ⎣78 ⎦  ⎣45⎦  ⎣105⎦  ⎣1\n",
       "\n",
       "51⎤  ⎡208⎤  ⎡149⎤  ⎡159⎤  ⎡166⎤  ⎡115⎤  ⎡132⎤⎞\n",
       "  ⎥  ⎢   ⎥  ⎢   ⎥  ⎢   ⎥  ⎢   ⎥  ⎢   ⎥  ⎢   ⎥⎟\n",
       "12⎥, ⎢305⎥, ⎢214⎥, ⎢231⎥, ⎢232⎥, ⎢172⎥, ⎢192⎥⎟\n",
       "  ⎥  ⎢   ⎥  ⎢   ⎥  ⎢   ⎥  ⎢   ⎥  ⎢   ⎥  ⎢   ⎥⎟\n",
       "47⎦  ⎣231⎦  ⎣158⎦  ⎣173⎦  ⎣159⎦  ⎣133⎦  ⎣144⎦⎠"
      ]
     },
     "execution_count": 85,
     "metadata": {},
     "output_type": "execute_result"
    }
   ],
   "source": [
    "u1 = Matrix(cipher[:3])  # a vector consisting of the first 3 numbers of the encrypted message\n",
    "u2 = Matrix(cipher[3:6]) # a vector consisting of the next 3 numbers of the encrypted message\n",
    "u3 = Matrix(cipher[6:9]) # and so on...\n",
    "u4 = Matrix(cipher[9:12])\n",
    "u5 = Matrix(cipher[12:15])\n",
    "u6 = Matrix(cipher[15:18])\n",
    "u7 = Matrix(cipher[18:21])\n",
    "u8 = Matrix(cipher[21:24])\n",
    "u9 = Matrix(cipher[24:27])\n",
    "u10 = Matrix(cipher[27:30])\n",
    "u11 = Matrix(cipher[30:33])\n",
    "u12 = Matrix(cipher[33:36])\n",
    "u13 = Matrix(cipher[36:39])\n",
    "u14 = Matrix(cipher[39:42])\n",
    "u15 = Matrix(cipher[42:45])\n",
    "u16 = Matrix(cipher[45:48])\n",
    "u17 = Matrix(cipher[48:51])\n",
    "u18 = Matrix(cipher[54:57])\n",
    "\n",
    "u1, u2, u3, u4, u5,u6,u7,u8,u9,u10,u11,u12,u13,u14,u15,u16,u17,u18"
   ]
  },
  {
   "cell_type": "code",
   "execution_count": 86,
   "metadata": {},
   "outputs": [
    {
     "data": {
      "text/latex": [
       "$\\displaystyle \\left( \\left[\\begin{matrix}3\\\\15\\\\14\\end{matrix}\\right], \\  \\left[\\begin{matrix}6\\\\9\\\\4\\end{matrix}\\right], \\  \\left[\\begin{matrix}5\\\\14\\\\20\\end{matrix}\\right], \\  \\left[\\begin{matrix}9\\\\1\\\\12\\end{matrix}\\right], \\  \\left[\\begin{matrix}0\\\\20\\\\8\\end{matrix}\\right], \\  \\left[\\begin{matrix}5\\\\0\\\\12\\end{matrix}\\right], \\  \\left[\\begin{matrix}15\\\\19\\\\19\\end{matrix}\\right], \\  \\left[\\begin{matrix}0\\\\23\\\\8\\end{matrix}\\right], \\  \\left[\\begin{matrix}9\\\\3\\\\8\\end{matrix}\\right], \\  \\left[\\begin{matrix}0\\\\9\\\\19\\end{matrix}\\right], \\  \\left[\\begin{matrix}0\\\\21\\\\14\\end{matrix}\\right], \\  \\left[\\begin{matrix}11\\\\14\\\\15\\end{matrix}\\right], \\  \\left[\\begin{matrix}23\\\\14\\\\0\\end{matrix}\\right], \\  \\left[\\begin{matrix}9\\\\19\\\\0\\end{matrix}\\right], \\  \\left[\\begin{matrix}14\\\\15\\\\0\\end{matrix}\\right], \\  \\left[\\begin{matrix}12\\\\15\\\\19\\end{matrix}\\right], \\  \\left[\\begin{matrix}19\\\\0\\\\1\\end{matrix}\\right], \\  \\left[\\begin{matrix}12\\\\12\\\\0\\end{matrix}\\right]\\right)$"
      ],
      "text/plain": [
       "⎛⎡3 ⎤  ⎡6⎤  ⎡5 ⎤  ⎡9 ⎤  ⎡0 ⎤  ⎡5 ⎤  ⎡15⎤  ⎡0 ⎤  ⎡9⎤  ⎡0 ⎤  ⎡0 ⎤  ⎡11⎤  ⎡23⎤  ⎡\n",
       "⎜⎢  ⎥  ⎢ ⎥  ⎢  ⎥  ⎢  ⎥  ⎢  ⎥  ⎢  ⎥  ⎢  ⎥  ⎢  ⎥  ⎢ ⎥  ⎢  ⎥  ⎢  ⎥  ⎢  ⎥  ⎢  ⎥  ⎢\n",
       "⎜⎢15⎥, ⎢9⎥, ⎢14⎥, ⎢1 ⎥, ⎢20⎥, ⎢0 ⎥, ⎢19⎥, ⎢23⎥, ⎢3⎥, ⎢9 ⎥, ⎢21⎥, ⎢14⎥, ⎢14⎥, ⎢\n",
       "⎜⎢  ⎥  ⎢ ⎥  ⎢  ⎥  ⎢  ⎥  ⎢  ⎥  ⎢  ⎥  ⎢  ⎥  ⎢  ⎥  ⎢ ⎥  ⎢  ⎥  ⎢  ⎥  ⎢  ⎥  ⎢  ⎥  ⎢\n",
       "⎝⎣14⎦  ⎣4⎦  ⎣20⎦  ⎣12⎦  ⎣8 ⎦  ⎣12⎦  ⎣19⎦  ⎣8 ⎦  ⎣8⎦  ⎣19⎦  ⎣14⎦  ⎣15⎦  ⎣0 ⎦  ⎣\n",
       "\n",
       "9 ⎤  ⎡14⎤  ⎡12⎤  ⎡19⎤  ⎡12⎤⎞\n",
       "  ⎥  ⎢  ⎥  ⎢  ⎥  ⎢  ⎥  ⎢  ⎥⎟\n",
       "19⎥, ⎢15⎥, ⎢15⎥, ⎢0 ⎥, ⎢12⎥⎟\n",
       "  ⎥  ⎢  ⎥  ⎢  ⎥  ⎢  ⎥  ⎢  ⎥⎟\n",
       "0 ⎦  ⎣0 ⎦  ⎣19⎦  ⎣1 ⎦  ⎣0 ⎦⎠"
      ]
     },
     "execution_count": 86,
     "metadata": {},
     "output_type": "execute_result"
    }
   ],
   "source": [
    "z1 = D*u1\n",
    "z2 = D*u2\n",
    "z3 = D*u3\n",
    "z4 = D*u4\n",
    "z5 = D*u5\n",
    "z6 = D*u6\n",
    "z7 = D*u7\n",
    "z8 = D*u8\n",
    "z9 = D*u9\n",
    "z10 = D*u10\n",
    "z11 = D*u11\n",
    "z12 = D*u12\n",
    "z13 = D*u13\n",
    "z14 = D*u14\n",
    "z15 = D*u15\n",
    "z16 = D*u16\n",
    "z17 = D*u17\n",
    "z18 = D*u18\n",
    "\n",
    "\n",
    "z1, z2, z3, z4,z5,z6,z7,z8,z9,z10,z11,z12,z13,z14,z15,z16,z17,z18"
   ]
  },
  {
   "cell_type": "code",
   "execution_count": 87,
   "metadata": {},
   "outputs": [
    {
     "data": {
      "text/latex": [
       "$\\displaystyle \\left[ 3, \\  15, \\  14, \\  6, \\  9, \\  4, \\  5, \\  14, \\  20, \\  9, \\  1, \\  12, \\  0, \\  20, \\  8, \\  5, \\  0, \\  12, \\  15, \\  19, \\  19, \\  0, \\  23, \\  8, \\  9, \\  3, \\  8, \\  0, \\  9, \\  19, \\  0, \\  21, \\  14, \\  11, \\  14, \\  15, \\  23, \\  14, \\  0, \\  9, \\  19, \\  0, \\  14, \\  15, \\  0, \\  12, \\  15, \\  19, \\  19, \\  0, \\  1, \\  12, \\  12, \\  0\\right]$"
      ],
      "text/plain": [
       "[3, 15, 14, 6, 9, 4, 5, 14, 20, 9, 1, 12, 0, 20, 8, 5, 0, 12, 15, 19, 19, 0, 2\n",
       "3, 8, 9, 3, 8, 0, 9, 19, 0, 21, 14, 11, 14, 15, 23, 14, 0, 9, 19, 0, 14, 15, 0\n",
       ", 12, 15, 19, 19, 0, 1, 12, 12, 0]"
      ]
     },
     "execution_count": 87,
     "metadata": {},
     "output_type": "execute_result"
    }
   ],
   "source": [
    "decodednumbers = list(Matrix([z1, z2, z3, z4, z5,z6,z7,z8,z9,z10,z11,z12,z13,z14,z15,z16,z17,z18]))\n",
    "decodednumbers"
   ]
  },
  {
   "cell_type": "code",
   "execution_count": 88,
   "metadata": {},
   "outputs": [
    {
     "name": "stdout",
     "output_type": "stream",
     "text": [
      "   3  15  14   6   9   4   5  14  20   9   1  12   0  20   8   5   0  12  15  19\n",
      "   C   O   N   F   I   D   E   N   T   I   A   L   _   T   H   E   _   L   O   S\n",
      "\n",
      "  19   0  23   8   9   3   8   0   9  19   0  21  14  11  14  15  23  14   0   9\n",
      "   S   _   W   H   I   C   H   _   I   S   _   U   N   K   N   O   W   N   _   I\n",
      "\n",
      "  19   0  14  15   0  12  15  19  19   0   1  12  12   0\n",
      "   S   _   N   O   _   L   O   S   S   _   A   L   L   _\n",
      "\n"
     ]
    }
   ],
   "source": [
    "num2char([3, 15, 14, 6, 9, 4, 5, 14, 20, 9, 1, 12, 0, 20, 8, 5, 0, 12, 15, 19, 19, 0, 23, 8, 9, 3, 8, 0, 9, 19, 0, 21, 14, 11, 14, 15, 23, 14, 0, 9, 19, 0, 14, 15, 0, 12, 15, 19, 19, 0, 1, 12, 12, 0])\n"
   ]
  },
  {
   "cell_type": "code",
   "execution_count": 89,
   "metadata": {},
   "outputs": [
    {
     "data": {
      "text/plain": [
       "'CONFIDENTIAL_THE_LOSS_WHICH_IS_UNKNOWN_IS_NO_LOSS_ALL_'"
      ]
     },
     "execution_count": 89,
     "metadata": {},
     "output_type": "execute_result"
    }
   ],
   "source": [
    "num2char_text_only(decodednumbers)\n"
   ]
  },
  {
   "cell_type": "code",
   "execution_count": null,
   "metadata": {},
   "outputs": [],
   "source": []
  },
  {
   "cell_type": "code",
   "execution_count": null,
   "metadata": {},
   "outputs": [],
   "source": []
  },
  {
   "cell_type": "code",
   "execution_count": null,
   "metadata": {},
   "outputs": [],
   "source": []
  }
 ],
 "metadata": {
  "kernelspec": {
   "display_name": "Python 3 (ipykernel)",
   "language": "python",
   "name": "python3"
  },
  "language_info": {
   "codemirror_mode": {
    "name": "ipython",
    "version": 3
   },
   "file_extension": ".py",
   "mimetype": "text/x-python",
   "name": "python",
   "nbconvert_exporter": "python",
   "pygments_lexer": "ipython3",
   "version": "3.9.13"
  }
 },
 "nbformat": 4,
 "nbformat_minor": 2
}
